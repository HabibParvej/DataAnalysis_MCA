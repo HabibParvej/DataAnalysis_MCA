{
  "nbformat": 4,
  "nbformat_minor": 0,
  "metadata": {
    "colab": {
      "provenance": [],
      "authorship_tag": "ABX9TyNaQP+yOGNpq0EF7lCfSnX2",
      "include_colab_link": true
    },
    "kernelspec": {
      "name": "python3",
      "display_name": "Python 3"
    },
    "language_info": {
      "name": "python"
    }
  },
  "cells": [
    {
      "cell_type": "markdown",
      "metadata": {
        "id": "view-in-github",
        "colab_type": "text"
      },
      "source": [
        "<a href=\"https://colab.research.google.com/github/HabibParvej/DataAnalysis_MCA/blob/main/Day2Pandas.ipynb\" target=\"_parent\"><img src=\"https://colab.research.google.com/assets/colab-badge.svg\" alt=\"Open In Colab\"/></a>"
      ]
    },
    {
      "cell_type": "code",
      "execution_count": 116,
      "metadata": {
        "colab": {
          "base_uri": "https://localhost:8080/"
        },
        "id": "PTL-PLyPldHv",
        "outputId": "9de5e75a-8c1c-414e-9a6f-7a04345f483c"
      },
      "outputs": [
        {
          "output_type": "stream",
          "name": "stdout",
          "text": [
            "Pandas is successfully imported, Version 2.2.2\n"
          ]
        }
      ],
      "source": [
        "# Importing the pandas library using the satndard alias \"pd\"\n",
        "import pandas as pd\n",
        "\n",
        "# Let's verify it works by checking the version\n",
        "print(\"Pandas is successfully imported, Version\",pd.__version__)\n",
        "\n"
      ]
    },
    {
      "cell_type": "code",
      "source": [
        "# Creating empty series\n",
        "s = pd.Series()\n",
        "# Display the series\n",
        "print(\"Resultant Empty Series\",s)"
      ],
      "metadata": {
        "colab": {
          "base_uri": "https://localhost:8080/"
        },
        "id": "tX6qlua1l432",
        "outputId": "f8d53b0d-4375-46d8-a920-9cf3de70394a"
      },
      "execution_count": 117,
      "outputs": [
        {
          "output_type": "stream",
          "name": "stdout",
          "text": [
            "Resultant Empty Series Series([], dtype: object)\n"
          ]
        }
      ]
    },
    {
      "cell_type": "code",
      "source": [
        "# Creating a Series from a Python list\n",
        "\n",
        "# Step 1: Import pandas\n",
        "import pandas as pd\n",
        "\n",
        "# Step 2: Create a basic Python list of monthly active users (MAUs) for an app\n",
        "mau_list = [1500, 1800, 2100, 2500, 3000]\n",
        "\n",
        "# Step 3: Create a Pandas Series from the list\n",
        "monthly_users = pd.Series(mau_list)\n",
        "\n",
        "# Step 4: Display the Series\n",
        "print(\"Monthly Active Users (MAU):\")\n",
        "print(monthly_users)"
      ],
      "metadata": {
        "colab": {
          "base_uri": "https://localhost:8080/"
        },
        "id": "xXpn3rtnmawV",
        "outputId": "13ee46e2-f0ef-4c33-8645-91b0e8c090e1"
      },
      "execution_count": 118,
      "outputs": [
        {
          "output_type": "stream",
          "name": "stdout",
          "text": [
            "Monthly Active Users (MAU):\n",
            "0    1500\n",
            "1    1800\n",
            "2    2100\n",
            "3    2500\n",
            "4    3000\n",
            "dtype: int64\n"
          ]
        }
      ]
    },
    {
      "cell_type": "code",
      "source": [
        "# Creating series from NumPy ndarray with customize index\n",
        "\n",
        "import numpy as np\n",
        "import pandas as pd\n",
        "\n",
        "# Step 1: Create a NumPy array with daily sales numbers\n",
        "daily_sales_array = np.array([250, 300, 400, 500, 450])\n",
        "\n",
        "# Step 2: Create a Series from the NumPy array\n",
        "daily_sales = pd.Series(daily_sales_array, index=['Mon', 'Tue', 'Wed', 'Thu', 'Fri'])\n",
        "\n",
        "# Step 3: Print the Series\n",
        "print(\"Daily Sales Data:\")\n",
        "print(daily_sales)"
      ],
      "metadata": {
        "colab": {
          "base_uri": "https://localhost:8080/"
        },
        "id": "fhUHStF2msAm",
        "outputId": "bda586d1-bba4-4b86-ec39-eae2617c383d"
      },
      "execution_count": 119,
      "outputs": [
        {
          "output_type": "stream",
          "name": "stdout",
          "text": [
            "Daily Sales Data:\n",
            "Mon    250\n",
            "Tue    300\n",
            "Wed    400\n",
            "Thu    500\n",
            "Fri    450\n",
            "dtype: int64\n"
          ]
        }
      ]
    },
    {
      "cell_type": "code",
      "source": [
        "# Dictionary with country names as keys and population as values\n",
        "pop_dict = {\n",
        "    'India': 112,\n",
        "    'USA': 334,\n",
        "    'China': 232,\n",
        "    'Brazil': 345,\n",
        "    'UK': 121\n",
        "}\n",
        "\n",
        "# Create Series from dictionary\n",
        "population_series = pd.Series(pop_dict)\n",
        "\n",
        "# Print the series\n",
        "print(\"Population By Country\")\n",
        "print(population_series)\n"
      ],
      "metadata": {
        "colab": {
          "base_uri": "https://localhost:8080/"
        },
        "id": "v8Pe9U8Zn7rN",
        "outputId": "20b7bb50-350a-451a-ed47-4ecd5c97a764"
      },
      "execution_count": 120,
      "outputs": [
        {
          "output_type": "stream",
          "name": "stdout",
          "text": [
            "Population By Country\n",
            "India     112\n",
            "USA       334\n",
            "China     232\n",
            "Brazil    345\n",
            "UK        121\n",
            "dtype: int64\n"
          ]
        }
      ]
    },
    {
      "cell_type": "code",
      "source": [
        "# Create a series from scalar value\n",
        "\n",
        "# Representing a single product price applied across 4 branches\n",
        "import pandas as pd\n",
        "price_scalar = pd.Series(999, index=['Miami', 'Los Angeles', 'Mumbai', 'Tokyo'])\n",
        "\n",
        "print(\"Price of Product X across branches:\")\n",
        "print(price_scalar)\n"
      ],
      "metadata": {
        "colab": {
          "base_uri": "https://localhost:8080/"
        },
        "id": "OPX0yN51pmrb",
        "outputId": "96910cca-7d51-4d54-b56e-4c6f877b5816"
      },
      "execution_count": 121,
      "outputs": [
        {
          "output_type": "stream",
          "name": "stdout",
          "text": [
            "Price of Product X across branches:\n",
            "Miami          999\n",
            "Los Angeles    999\n",
            "Mumbai         999\n",
            "Tokyo          999\n",
            "dtype: int64\n"
          ]
        }
      ]
    },
    {
      "cell_type": "code",
      "source": [
        "# Accessing series elements by position\n",
        "import pandas as pd\n",
        "\n",
        "# Step 1: Create a Series with monthly revenue data\n",
        "monthly_revenue = pd.Series(\n",
        "    [20, 25, 30, 28, 35],\n",
        "    index=['Jan', 'Feb', 'Mar', 'Apr', 'May']\n",
        ")\n",
        "\n",
        "# Step 2: Access the first and last month's revenue using position-based indexing\n",
        "print(\"January Revenue:\", monthly_revenue.iloc[0])   # Position 0\n",
        "print(\"May Revenue:\", monthly_revenue.iloc[-1])      # Last position"
      ],
      "metadata": {
        "colab": {
          "base_uri": "https://localhost:8080/"
        },
        "id": "pl4xRX3cqj_3",
        "outputId": "68032454-a1a6-4c55-ed87-6356f819da5a"
      },
      "execution_count": 122,
      "outputs": [
        {
          "output_type": "stream",
          "name": "stdout",
          "text": [
            "January Revenue: 20\n",
            "May Revenue: 35\n"
          ]
        }
      ]
    },
    {
      "cell_type": "code",
      "source": [
        "# Accessing by label\n",
        "\n",
        "# Step 1: Create a Series with monthly revenue data\n",
        "monthly_revenue = pd.Series(\n",
        "    [20, 25, 30, 28, 35],\n",
        "    index=['Jan', 'Feb', 'Mar', 'Apr', 'May']\n",
        ")\n",
        "\n",
        "# Access revenue for March directly using label\n",
        "print(\"March Revenue:\", monthly_revenue['Mar'])\n",
        "\n",
        "# Slicing using index positions"
      ],
      "metadata": {
        "colab": {
          "base_uri": "https://localhost:8080/"
        },
        "id": "5H6tBCF2rlvq",
        "outputId": "8e3d4d21-4e27-40be-ad8f-d4d8b30a556c"
      },
      "execution_count": 123,
      "outputs": [
        {
          "output_type": "stream",
          "name": "stdout",
          "text": [
            "March Revenue: 30\n"
          ]
        }
      ]
    },
    {
      "cell_type": "code",
      "source": [
        "# Step 1: Create a Series showing number of passengers\n",
        "# (in thousands) per day in a week\n",
        "passenger_load = pd.Series(\n",
        "    [105, 134, 120, 145, 160, 178, 150],\n",
        "    index=['Mon', 'Tue', 'Wed', 'Thu', 'Fri', 'Sat', 'Sun']\n",
        ")\n",
        "\n",
        "# Step 2: Apply various slicing techniques\n",
        "\n",
        "# Select alternate days starting from Tuesday to Saturday\n",
        "print(\"Slicing [1:6:2] (Tue to Sat, alternate days):\\n\", passenger_load[1:6:2])\n",
        "# Select midweek traffic from Wednesday to Friday\n",
        "print(\"\\nSlicing [2:5] (Wed to Fri):\\n\", passenger_load[2:5])\n",
        "# Select all data from Thursday onwards\n",
        "print(\"\\nSlicing [3:] (Thu to Sun):\\n\", passenger_load[3:])\n",
        "# Select early week (Mon to Thu)\n",
        "print(\"\\nSlicing [:4] (Mon to Thu):\\n\", passenger_load[:4])\n",
        "# Select the entire week\n",
        "print(\"\\nSlicing [:] (All days):\\n\", passenger_load[:])"
      ],
      "metadata": {
        "colab": {
          "base_uri": "https://localhost:8080/"
        },
        "id": "vQ6YG3WStQO2",
        "outputId": "b6aca906-5e61-425e-a4f7-9d1f9a6c086a"
      },
      "execution_count": 124,
      "outputs": [
        {
          "output_type": "stream",
          "name": "stdout",
          "text": [
            "Slicing [1:6:2] (Tue to Sat, alternate days):\n",
            " Tue    134\n",
            "Thu    145\n",
            "Sat    178\n",
            "dtype: int64\n",
            "\n",
            "Slicing [2:5] (Wed to Fri):\n",
            " Wed    120\n",
            "Thu    145\n",
            "Fri    160\n",
            "dtype: int64\n",
            "\n",
            "Slicing [3:] (Thu to Sun):\n",
            " Thu    145\n",
            "Fri    160\n",
            "Sat    178\n",
            "Sun    150\n",
            "dtype: int64\n",
            "\n",
            "Slicing [:4] (Mon to Thu):\n",
            " Mon    105\n",
            "Tue    134\n",
            "Wed    120\n",
            "Thu    145\n",
            "dtype: int64\n",
            "\n",
            "Slicing [:] (All days):\n",
            " Mon    105\n",
            "Tue    134\n",
            "Wed    120\n",
            "Thu    145\n",
            "Fri    160\n",
            "Sat    178\n",
            "Sun    150\n",
            "dtype: int64\n"
          ]
        }
      ]
    },
    {
      "cell_type": "code",
      "source": [
        "# Slicing a Pandas Series using index labels\n",
        "\n",
        "import pandas as pd\n",
        "\n",
        "# Create a Series of daily ticket sales (in thousands) over a week\n",
        "ticket_sales = pd.Series(\n",
        "    [120, 135, 128, 160, 142, 170, 155],\n",
        "    index=[\n",
        "        '2024-06-01',\n",
        "        '2024-06-02',\n",
        "        '2024-06-03',\n",
        "        '2024-06-04',\n",
        "        '2024-06-05',\n",
        "        '2024-06-06',\n",
        "        '2024-06-07'\n",
        "    ]\n",
        ")\n",
        "\n",
        "# Slice sales from June 2nd to June 5th using index labels\n",
        "selected_sales = ticket_sales['2024-06-02':'2024-06-05']\n",
        "\n",
        "# Display the result\n",
        "print(\"Ticket sales from June 2 to June 5:\\n\", selected_sales)"
      ],
      "metadata": {
        "colab": {
          "base_uri": "https://localhost:8080/"
        },
        "id": "3rwpAlsAtrXN",
        "outputId": "193e850f-3f96-4a22-eb8b-377aeababcbf"
      },
      "execution_count": 125,
      "outputs": [
        {
          "output_type": "stream",
          "name": "stdout",
          "text": [
            "Ticket sales from June 2 to June 5:\n",
            " 2024-06-02    135\n",
            "2024-06-03    128\n",
            "2024-06-04    160\n",
            "2024-06-05    142\n",
            "dtype: int64\n"
          ]
        }
      ]
    },
    {
      "cell_type": "code",
      "source": [
        "# Conditional access with boolean indexing\n",
        "\n",
        "# Use Boolean indexing to filter days with significant delays (>30 minutes)\n",
        "high_delay_days = passenger_load[passenger_load > 130]\n",
        "\n",
        "# Display the result\n",
        "print(\"Days with flight delays greater than 30 minutes:\\n\", high_delay_days)"
      ],
      "metadata": {
        "colab": {
          "base_uri": "https://localhost:8080/"
        },
        "id": "Aoj70sgUw4QV",
        "outputId": "6797c3ef-ba0f-4a88-9c7a-0812669e2a15"
      },
      "execution_count": 126,
      "outputs": [
        {
          "output_type": "stream",
          "name": "stdout",
          "text": [
            "Days with flight delays greater than 30 minutes:\n",
            " Tue    134\n",
            "Thu    145\n",
            "Fri    160\n",
            "Sat    178\n",
            "Sun    150\n",
            "dtype: int64\n"
          ]
        }
      ]
    },
    {
      "cell_type": "code",
      "source": [
        "# Access using .get() to avoid errors\n",
        "# Try accessing a Days that may not exist\n",
        "print(passenger_load.get('Tue', 'Data not available'))"
      ],
      "metadata": {
        "colab": {
          "base_uri": "https://localhost:8080/"
        },
        "id": "Q1rw4JxOypJw",
        "outputId": "8b3355f9-cd4a-4d60-aebe-a198b387f958"
      },
      "execution_count": 127,
      "outputs": [
        {
          "output_type": "stream",
          "name": "stdout",
          "text": [
            "134\n"
          ]
        }
      ]
    },
    {
      "cell_type": "code",
      "source": [
        "# Step 1: Convert dict to Series\n",
        "pop_series = pd.Series(pop_dict)\n",
        "\n",
        "# Step 2: Now check attributes\n",
        "print(\"Data type of population values:\", pop_series.dtype)\n",
        "print(\"Total records (countries):\", pop_series.shape)\n",
        "print(\"Index labels:\", pop_series.index)\n"
      ],
      "metadata": {
        "colab": {
          "base_uri": "https://localhost:8080/"
        },
        "id": "YwEzBwJRzSTK",
        "outputId": "79c61884-9425-4f5c-ce5d-aed83b30371b"
      },
      "execution_count": 128,
      "outputs": [
        {
          "output_type": "stream",
          "name": "stdout",
          "text": [
            "Data type of population values: int64\n",
            "Total records (countries): (5,)\n",
            "Index labels: Index(['India', 'USA', 'China', 'Brazil', 'UK'], dtype='object')\n"
          ]
        }
      ]
    },
    {
      "cell_type": "code",
      "source": [
        "# Monthly cloud costs (USD)\n",
        "cloud_cost = pd.Series(\n",
        "    [10000, 12500, 11000, 14500, 15000, 12500],\n",
        "    index=['Jan', 'Feb', 'Mar', 'Apr', 'May', 'Jun']\n",
        ")\n",
        "\n",
        "# Find months where cost exceeded $13,000\n",
        "high_cost = cloud_cost > 13000\n",
        "\n",
        "# Find months where cost is either below $12,000 or above $14,500\n",
        "outlier_months = (cloud_cost < 12000) | (cloud_cost > 14500)\n",
        "\n",
        "# Negate condition: find months not exceeding $13,000\n",
        "within_budget = ~high_cost\n",
        "\n",
        "# Use Boolean mask to extract high cost values\n",
        "filtered_costs = cloud_cost[high_cost]\n",
        "\n",
        "# Use .where() to keep only values above $13,000, others become NaN\n",
        "where_example = cloud_cost.where(cloud_cost > 13000)\n",
        "\n",
        "# Use .mask() to hide costs below $13,000; keep rest\n",
        "mask_example = cloud_cost.mask(cloud_cost < 13000)\n",
        "\n",
        "# Use .clip() to restrict all values between $12,000 and $14,000\n",
        "clipped_cost = cloud_cost.clip(lower=12000, upper=14000)\n",
        "\n",
        "print(\"Months with Cost > $13,000:\\n\",high_cost)\n",
        "print(\"\\nOutlier Months (< $12k or > $14.5k):\\n\", outlier_months)\n",
        "print(\"\\nMonths Within Budget (<= $13,000):\\n\", within_budget)\n",
        "print(\"\\nFiltered High Costs:\\n\", filtered_costs)\n",
        "print(\"\\nUsing where():\\n\", where_example)\n",
        "print(\"\\nUsing mask():\\n\", mask_example)\n",
        "print(\"\\nClipped Values between $12k and $14k:\\n\", clipped_cost)\n"
      ],
      "metadata": {
        "colab": {
          "base_uri": "https://localhost:8080/"
        },
        "id": "qUv6o-px0UT4",
        "outputId": "81d3d866-9fe0-447c-e888-15fcdfebac68"
      },
      "execution_count": 129,
      "outputs": [
        {
          "output_type": "stream",
          "name": "stdout",
          "text": [
            "Months with Cost > $13,000:\n",
            " Jan    False\n",
            "Feb    False\n",
            "Mar    False\n",
            "Apr     True\n",
            "May     True\n",
            "Jun    False\n",
            "dtype: bool\n",
            "\n",
            "Outlier Months (< $12k or > $14.5k):\n",
            " Jan     True\n",
            "Feb    False\n",
            "Mar     True\n",
            "Apr    False\n",
            "May     True\n",
            "Jun    False\n",
            "dtype: bool\n",
            "\n",
            "Months Within Budget (<= $13,000):\n",
            " Jan     True\n",
            "Feb     True\n",
            "Mar     True\n",
            "Apr    False\n",
            "May    False\n",
            "Jun     True\n",
            "dtype: bool\n",
            "\n",
            "Filtered High Costs:\n",
            " Apr    14500\n",
            "May    15000\n",
            "dtype: int64\n",
            "\n",
            "Using where():\n",
            " Jan        NaN\n",
            "Feb        NaN\n",
            "Mar        NaN\n",
            "Apr    14500.0\n",
            "May    15000.0\n",
            "Jun        NaN\n",
            "dtype: float64\n",
            "\n",
            "Using mask():\n",
            " Jan        NaN\n",
            "Feb        NaN\n",
            "Mar        NaN\n",
            "Apr    14500.0\n",
            "May    15000.0\n",
            "Jun        NaN\n",
            "dtype: float64\n",
            "\n",
            "Clipped Values between $12k and $14k:\n",
            " Jan    12000\n",
            "Feb    12500\n",
            "Mar    12000\n",
            "Apr    14000\n",
            "May    14000\n",
            "Jun    12500\n",
            "dtype: int64\n"
          ]
        }
      ]
    },
    {
      "cell_type": "code",
      "source": [
        "# .map()\n",
        "\n",
        "# Mapping department codes to names in a payroll system\n",
        "# Department codes of employees\n",
        "import pandas as pd\n",
        "\n",
        "dept_codes = pd.Series(['HR', 'ENG', 'MKT', 'HR', 'FIN', 'ENG'])\n",
        "print(\"Before Mapping\\n:\",dept_codes)\n",
        "# Mapping to full department names\n",
        "dept_names = {\n",
        "    'HR': 'Human Resources',\n",
        "    'ENG': 'Engineering',\n",
        "    'MKT': 'Marketing',\n",
        "    'FIN': 'Finance'\n",
        "}\n",
        "\n",
        "# Mapping with .map()\n",
        "mapped = dept_codes.map(dept_names)\n",
        "print(\"Mapped Department Names:\\n\",mapped)"
      ],
      "metadata": {
        "colab": {
          "base_uri": "https://localhost:8080/"
        },
        "id": "7VChdbSa38j4",
        "outputId": "a5dedbc4-67e5-4bae-dde5-7ee57a0ee89f"
      },
      "execution_count": 130,
      "outputs": [
        {
          "output_type": "stream",
          "name": "stdout",
          "text": [
            "Before Mapping\n",
            ": 0     HR\n",
            "1    ENG\n",
            "2    MKT\n",
            "3     HR\n",
            "4    FIN\n",
            "5    ENG\n",
            "dtype: object\n",
            "Mapped Department Names:\n",
            " 0    Human Resources\n",
            "1        Engineering\n",
            "2          Marketing\n",
            "3    Human Resources\n",
            "4            Finance\n",
            "5        Engineering\n",
            "dtype: object\n"
          ]
        }
      ]
    },
    {
      "cell_type": "code",
      "source": [
        "# Keys in the dictionary represent column names in the DataFrame\n",
        "# Each key maps to a list of values, where each element corresponds to\n",
        "cholesterol_data = {\n",
        "    'Patient_ID': ['P101', 'P102', 'P103', 'P104', 'P105'],\n",
        "    'Age': [45, 54, 38, 50, 60],\n",
        "    'Cholesterol_mg/dL': [190, 205, 180, 220, 199],\n",
        "    'On_Status': [True, False, True, False, True]\n",
        "}\n",
        "\n",
        "# Convert dictionary to DataFrame\n",
        "df_medical = pd.DataFrame(cholesterol_data)\n",
        "print(df_medical)"
      ],
      "metadata": {
        "colab": {
          "base_uri": "https://localhost:8080/"
        },
        "id": "OimMQiUbDrO-",
        "outputId": "7f119e0a-cb2a-4ae7-9ecf-d19e8e562a97"
      },
      "execution_count": 131,
      "outputs": [
        {
          "output_type": "stream",
          "name": "stdout",
          "text": [
            "  Patient_ID  Age  Cholesterol_mg/dL  On_Status\n",
            "0       P101   45                190       True\n",
            "1       P102   54                205      False\n",
            "2       P103   38                180       True\n",
            "3       P104   50                220      False\n",
            "4       P105   60                199       True\n"
          ]
        }
      ]
    },
    {
      "cell_type": "code",
      "source": [
        "# Creating DataFrame from list\n",
        "# Seismic magnitude data for different regions\n",
        "\n",
        "import pandas as pd\n",
        "import numpy as np\n",
        "\n",
        "# Each inner list represents a row: [Region, Year, Magnitude]\n",
        "earthquake_data = [\n",
        "    ['California', 2016, 6.5],\n",
        "    ['Japan', 2018, 7.3],\n",
        "    ['Chile', 2020, 6.9],\n",
        "    ['Nepal', 2015, 7.8],\n",
        "    ['Indonesia', 2019, 6.1]\n",
        "]\n",
        "\n",
        "# Convert list of lists to DataFrame and specify column names\n",
        "df_geo = pd.DataFrame(earthquake_data, columns=['Region', 'Year', 'Magnitude'])\n",
        "print(df_geo)"
      ],
      "metadata": {
        "colab": {
          "base_uri": "https://localhost:8080/"
        },
        "id": "-73w4U2aFCcv",
        "outputId": "623bc121-9914-4c59-8ebe-69190dd1dddd"
      },
      "execution_count": 132,
      "outputs": [
        {
          "output_type": "stream",
          "name": "stdout",
          "text": [
            "       Region  Year  Magnitude\n",
            "0  California  2016        6.5\n",
            "1       Japan  2018        7.3\n",
            "2       Chile  2020        6.9\n",
            "3       Nepal  2015        7.8\n",
            "4   Indonesia  2019        6.1\n"
          ]
        }
      ]
    },
    {
      "cell_type": "code",
      "source": [
        "# Creating DataFrame from NumPy ndarray\n",
        "# Intensity readings from two telescope sensors for 5 stars\n",
        "\n",
        "import pandas as pd\n",
        "import numpy as np\n",
        "\n",
        "# Each row represents a star; each column a sensor reading\n",
        "astro_array = np.array([\n",
        "    [1500, 1600],\n",
        "    [1700, 1800],\n",
        "    [1650, 1720],\n",
        "    [1580, 1625],\n",
        "    [1775, 1890]\n",
        "])\n",
        "\n",
        "# Create DataFrame from the NumPy array with appropriate column names\n",
        "df_astro = pd.DataFrame(astro_array, columns=['Sensor_A_Intensity', 'Sensor_B_Intensity'])\n",
        "print(df_astro)"
      ],
      "metadata": {
        "colab": {
          "base_uri": "https://localhost:8080/"
        },
        "id": "DS8rHH96GTaa",
        "outputId": "4279b260-fa6c-4828-f235-5e2a2ded1244"
      },
      "execution_count": 133,
      "outputs": [
        {
          "output_type": "stream",
          "name": "stdout",
          "text": [
            "   Sensor_A_Intensity  Sensor_B_Intensity\n",
            "0                1500                1600\n",
            "1                1700                1800\n",
            "2                1650                1720\n",
            "3                1580                1625\n",
            "4                1775                1890\n"
          ]
        }
      ]
    },
    {
      "cell_type": "code",
      "source": [
        "# Save and read DataFrame\n",
        "# Create the DataFrame with air quality data\n",
        "air_quality_data = {\n",
        "    'City': ['Delhi', 'Beijing', 'Los Angeles', 'Paris', 'Sydney'],\n",
        "    'PM2.5': [250, 180, 90, 60, 40],\n",
        "    'PM10': [300, 220, 110, 80, 55],\n",
        "    'NO2': [40, 60, 30, 25, 20],\n",
        "    'CO': [1.1, 1.3, 0.7, 0.6, 0.4]\n",
        "}\n",
        "\n",
        "df_air_quality = pd.DataFrame(air_quality_data)\n",
        "\n",
        "# Save the DataFrame to a CSV file\n",
        "df_air_quality.to_csv('air_quality_data.csv', index=False)\n",
        "\n",
        "# Optional: Load it back to confirm\n",
        "df_loaded = pd.read_csv('air_quality_data.csv')\n",
        "print(df_loaded)"
      ],
      "metadata": {
        "colab": {
          "base_uri": "https://localhost:8080/"
        },
        "id": "bVSP2xuBGglU",
        "outputId": "e670dff0-9163-4a65-e784-ed55e2ddd647"
      },
      "execution_count": 134,
      "outputs": [
        {
          "output_type": "stream",
          "name": "stdout",
          "text": [
            "          City  PM2.5  PM10  NO2   CO\n",
            "0        Delhi    250   300   40  1.1\n",
            "1      Beijing    180   220   60  1.3\n",
            "2  Los Angeles     90   110   30  0.7\n",
            "3        Paris     60    80   25  0.6\n",
            "4       Sydney     40    55   20  0.4\n"
          ]
        }
      ]
    },
    {
      "cell_type": "code",
      "source": [
        "cholesterol_data = {\n",
        "    'Patient_ID': ['P101', 'P102', 'P103', 'P104', 'P105','P100','P108','P160','P140','P104'],\n",
        "    'Age': [45, 54, 38, 50, 60, 45, 76, 76, 67, 64],\n",
        "    'Cholesterol_mg/dL': [190, 205, 180, 220, 199, 199, 210, 210, 199, 220],\n",
        "    'On_Statins': [True, False, True, False, True, False, True, False, True, False]\n",
        "}\n",
        "df_health = pd.DataFrame(cholesterol_data)\n",
        "print(df_health)\n",
        "# # Save the DataFrame to a CSV file\n",
        "# df_health.to_csv('health.csv', index=False)\n",
        "\n",
        "# # Optional: Load it back to confirm\n",
        "# df_loaded = pd.read_csv('health.csv')\n",
        "# print(df_loaded)"
      ],
      "metadata": {
        "colab": {
          "base_uri": "https://localhost:8080/"
        },
        "id": "9owP1z6wHMDr",
        "outputId": "48e097bb-0512-4696-833c-3fc98e5e5e2e"
      },
      "execution_count": 135,
      "outputs": [
        {
          "output_type": "stream",
          "name": "stdout",
          "text": [
            "  Patient_ID  Age  Cholesterol_mg/dL  On_Statins\n",
            "0       P101   45                190        True\n",
            "1       P102   54                205       False\n",
            "2       P103   38                180        True\n",
            "3       P104   50                220       False\n",
            "4       P105   60                199        True\n",
            "5       P100   45                199       False\n",
            "6       P108   76                210        True\n",
            "7       P160   76                210       False\n",
            "8       P140   67                199        True\n",
            "9       P104   64                220       False\n"
          ]
        }
      ]
    },
    {
      "cell_type": "code",
      "source": [
        "# View the first 5 rows of the DataFrame\n",
        "print(\"Display first 5 rows\")\n",
        "print(df_health.head())\n",
        "\n",
        "print(\"\\nDisplay first 3 rows\")\n",
        "# Optionally, view a custom number of rows (e.g., first 3)\n",
        "print(df_health.head(3))"
      ],
      "metadata": {
        "colab": {
          "base_uri": "https://localhost:8080/"
        },
        "id": "BKRU6qDuI309",
        "outputId": "d1b086cb-a63f-4c93-cbec-fc0a1bf70192"
      },
      "execution_count": 136,
      "outputs": [
        {
          "output_type": "stream",
          "name": "stdout",
          "text": [
            "Display first 5 rows\n",
            "  Patient_ID  Age  Cholesterol_mg/dL  On_Statins\n",
            "0       P101   45                190        True\n",
            "1       P102   54                205       False\n",
            "2       P103   38                180        True\n",
            "3       P104   50                220       False\n",
            "4       P105   60                199        True\n",
            "\n",
            "Display first 3 rows\n",
            "  Patient_ID  Age  Cholesterol_mg/dL  On_Statins\n",
            "0       P101   45                190        True\n",
            "1       P102   54                205       False\n",
            "2       P103   38                180        True\n"
          ]
        }
      ]
    },
    {
      "cell_type": "code",
      "source": [
        "# .describe() - Summary statistics for numeric data\n",
        "\n",
        "# Get descriptive stats for numeric columns only\n",
        "print(\"Description of DataFrame\\n\", df_health.describe())\n",
        "\n",
        "# Optional: Include all data types (numeric + object)\n",
        "print(\"\\nDetailed description of DataFrame\\n\", df_health.describe(include='all'))"
      ],
      "metadata": {
        "colab": {
          "base_uri": "https://localhost:8080/"
        },
        "id": "uOJgHHR2K8dJ",
        "outputId": "e774532a-848d-4457-bddf-be0febbf3501"
      },
      "execution_count": 137,
      "outputs": [
        {
          "output_type": "stream",
          "name": "stdout",
          "text": [
            "Description of DataFrame\n",
            "              Age  Cholesterol_mg/dL\n",
            "count  10.000000          10.000000\n",
            "mean   57.500000         203.200000\n",
            "std    13.268593          12.585706\n",
            "min    38.000000         180.000000\n",
            "25%    46.250000         199.000000\n",
            "50%    57.000000         202.000000\n",
            "75%    66.250000         210.000000\n",
            "max    76.000000         220.000000\n",
            "\n",
            "Detailed description of DataFrame\n",
            "        Patient_ID        Age  Cholesterol_mg/dL On_Statins\n",
            "count          10  10.000000          10.000000         10\n",
            "unique          9        NaN                NaN          2\n",
            "top          P104        NaN                NaN       True\n",
            "freq            2        NaN                NaN          5\n",
            "mean          NaN  57.500000         203.200000        NaN\n",
            "std           NaN  13.268593          12.585706        NaN\n",
            "min           NaN  38.000000         180.000000        NaN\n",
            "25%           NaN  46.250000         199.000000        NaN\n",
            "50%           NaN  57.000000         202.000000        NaN\n",
            "75%           NaN  66.250000         210.000000        NaN\n",
            "max           NaN  76.000000         220.000000        NaN\n"
          ]
        }
      ]
    },
    {
      "cell_type": "code",
      "source": [
        "# .loc[] - Access rows and columns using labels (names)\n",
        "\n",
        "# Get details of Patient ID and Age\n",
        "# loc[row_label, column_name]\n",
        "sf = df_health.loc[1, ['Age', 'Patient_ID']]\n",
        "print(\"Located Data is\\n\", sf)\n",
        "\n",
        "# Get all fragile shipments\n",
        "data = df_health.loc[df_health['On_Statins'] == True]\n",
        "print(\"\\nData:\\n\", data)"
      ],
      "metadata": {
        "colab": {
          "base_uri": "https://localhost:8080/"
        },
        "id": "-b72dZgkL8qf",
        "outputId": "2789f6d5-7b57-4b60-b65d-6ae2731c4529"
      },
      "execution_count": 138,
      "outputs": [
        {
          "output_type": "stream",
          "name": "stdout",
          "text": [
            "Located Data is\n",
            " Age             54\n",
            "Patient_ID    P102\n",
            "Name: 1, dtype: object\n",
            "\n",
            "Data:\n",
            "   Patient_ID  Age  Cholesterol_mg/dL  On_Statins\n",
            "0       P101   45                190        True\n",
            "2       P103   38                180        True\n",
            "4       P105   60                199        True\n",
            "6       P108   76                210        True\n",
            "8       P140   67                199        True\n"
          ]
        }
      ]
    },
    {
      "cell_type": "code",
      "source": [
        "# iloc[] - Access rows/columns using positional indices\n",
        "\n",
        "# Get the first 2  records\n",
        "# iloc[row_index_position, column_index_position]\n",
        "first_two = df_health.iloc[0:2]\n",
        "print(\"First 2  records\\n\", first_two)\n",
        "\n",
        "# Get the Status\n",
        "weights_status = df_health.iloc[2:4, 3:5]\n",
        "print(\"\\nStatus\\n\", weights_status)"
      ],
      "metadata": {
        "colab": {
          "base_uri": "https://localhost:8080/"
        },
        "id": "GNeb5w-LMrM4",
        "outputId": "7332d9b1-bed4-4e04-f6dc-634050be05d8"
      },
      "execution_count": 139,
      "outputs": [
        {
          "output_type": "stream",
          "name": "stdout",
          "text": [
            "First 2  records\n",
            "   Patient_ID  Age  Cholesterol_mg/dL  On_Statins\n",
            "0       P101   45                190        True\n",
            "1       P102   54                205       False\n",
            "\n",
            "Status\n",
            "    On_Statins\n",
            "2        True\n",
            "3       False\n"
          ]
        }
      ]
    },
    {
      "cell_type": "code",
      "source": [
        "# .at[] - Access a single cell using row label and column name\n",
        "\n",
        "# .at[row_label, column_label]\n",
        "# Returns a scalar value\n",
        "# Retrieve the status\n",
        "status = df_health.at[1, 'Age']\n",
        "print(status)\n"
      ],
      "metadata": {
        "colab": {
          "base_uri": "https://localhost:8080/"
        },
        "id": "dbejCrKfQBVe",
        "outputId": "ebf5b823-cc2a-4e8a-d06a-0687b56b1cfb"
      },
      "execution_count": 140,
      "outputs": [
        {
          "output_type": "stream",
          "name": "stdout",
          "text": [
            "54\n"
          ]
        }
      ]
    },
    {
      "cell_type": "code",
      "source": [
        "# .iat[] - Access a single cell using row and column index\n",
        "\n",
        "# Get the 'Weight_kg' value of the 3rd record (index 2, column index 3)\n",
        "# .iat[row_index, column_index]\n",
        "weight_value = df_health.iat[2, 3]\n",
        "print(\"value of the 3rd record =\", weight_value)\n",
        "\n",
        "# query() - Filter rows using a string-based expression, like SQL"
      ],
      "metadata": {
        "colab": {
          "base_uri": "https://localhost:8080/"
        },
        "id": "5KTTuMS9R6Um",
        "outputId": "9f2f8c31-1a0e-4e67-9c77-fcd1af61fbe4"
      },
      "execution_count": 141,
      "outputs": [
        {
          "output_type": "stream",
          "name": "stdout",
          "text": [
            "value of the 3rd record = True\n"
          ]
        }
      ]
    },
    {
      "cell_type": "code",
      "source": [
        "\n",
        "# 1. Convert Age Years to Months\n",
        "df_health['Age_in_Months'] = df_health['Age'] * 12 # Create a new Column in the existing Data\n",
        "print(\"age from years to months\\n\", df_health['Age_in_Months'])"
      ],
      "metadata": {
        "colab": {
          "base_uri": "https://localhost:8080/"
        },
        "id": "lxquTlO_Skge",
        "outputId": "e8c34070-bb3b-4f20-e6eb-388b353f8868"
      },
      "execution_count": 142,
      "outputs": [
        {
          "output_type": "stream",
          "name": "stdout",
          "text": [
            "age from years to months\n",
            " 0    540\n",
            "1    648\n",
            "2    456\n",
            "3    600\n",
            "4    720\n",
            "5    540\n",
            "6    912\n",
            "7    912\n",
            "8    804\n",
            "9    768\n",
            "Name: Age_in_Months, dtype: int64\n"
          ]
        }
      ]
    },
    {
      "cell_type": "code",
      "source": [
        "print(df_health)"
      ],
      "metadata": {
        "colab": {
          "base_uri": "https://localhost:8080/"
        },
        "id": "OgIzLXRQTapX",
        "outputId": "bed6f433-1797-494a-c6de-8c9e4e35c854"
      },
      "execution_count": 143,
      "outputs": [
        {
          "output_type": "stream",
          "name": "stdout",
          "text": [
            "  Patient_ID  Age  Cholesterol_mg/dL  On_Statins  Age_in_Months\n",
            "0       P101   45                190        True            540\n",
            "1       P102   54                205       False            648\n",
            "2       P103   38                180        True            456\n",
            "3       P104   50                220       False            600\n",
            "4       P105   60                199        True            720\n",
            "5       P100   45                199       False            540\n",
            "6       P108   76                210        True            912\n",
            "7       P160   76                210       False            912\n",
            "8       P140   67                199        True            804\n",
            "9       P104   64                220       False            768\n"
          ]
        }
      ]
    },
    {
      "cell_type": "code",
      "source": [
        "# Before update\n",
        "print(\"\\nStatus - Before:\\n\", df_health['On_Statins'])\n",
        "\n",
        "# Update values: if it's a boolean column\n",
        "df_health.loc[df_health['On_Statins'] == True, 'On_Statins'] = 'On'\n",
        "\n",
        "# After update\n",
        "print(\"\\nStatus - After:\\n\", df_health['On_Statins'])\n"
      ],
      "metadata": {
        "colab": {
          "base_uri": "https://localhost:8080/"
        },
        "id": "uLNzmlUfT6Mb",
        "outputId": "b3dfdf6e-34d3-4faf-cfb0-b090faef0c1a"
      },
      "execution_count": 145,
      "outputs": [
        {
          "output_type": "stream",
          "name": "stdout",
          "text": [
            "\n",
            "Status - Before:\n",
            " 0     True\n",
            "1    False\n",
            "2     True\n",
            "3    False\n",
            "4     True\n",
            "5    False\n",
            "6     True\n",
            "7    False\n",
            "8     True\n",
            "9    False\n",
            "Name: On_Statins, dtype: bool\n",
            "\n",
            "Status - After:\n",
            " 0       On\n",
            "1    False\n",
            "2       On\n",
            "3    False\n",
            "4       On\n",
            "5    False\n",
            "6       On\n",
            "7    False\n",
            "8       On\n",
            "9    False\n",
            "Name: On_Statins, dtype: object\n"
          ]
        },
        {
          "output_type": "stream",
          "name": "stderr",
          "text": [
            "/tmp/ipython-input-145-3726786460.py:5: FutureWarning: Setting an item of incompatible dtype is deprecated and will raise an error in a future version of pandas. Value 'On' has dtype incompatible with bool, please explicitly cast to a compatible dtype first.\n",
            "  df_health.loc[df_health['On_Statins'] == True, 'On_Statins'] = 'On'\n"
          ]
        }
      ]
    },
    {
      "cell_type": "code",
      "source": [
        "\n",
        "# Creating logistics shipment DataFrame\n",
        "# Creating logistics shipment DataFrame\n",
        "df = pd.DataFrame({\n",
        "    'ShipmentID': [1001, 1002, 1003, 1004, 1005],\n",
        "    'Weight_kg': [12.5, 8.0, 15.0, 7.5, 10.0],\n",
        "    'Status': ['Delivered', 'In Transit', 'Delayed', 'Delivered', 'Delayed'],\n",
        "    'Fragile': [True, False, True, False, True],\n",
        "    'Shipping_Type': ['Air', 'Ground', 'Air', 'Ground', 'Air']\n",
        "})\n",
        "\n",
        "# 1. (Fixed) Get all delayed shipments (not 'Critical', which doesn't exist)\n",
        "delayed_df = df[df['Status'] == 'Delayed']\n",
        "print(\" Delayed Shipments:\\n\", delayed_df)\n",
        "\n",
        "# 2. Get all delayed AND air-shipped packages (heavy is not clearly defined, so we're keeping it simple)\n",
        "delayed_air_df = df[(df['Status'] == 'Delayed') & (df['Shipping_Type'] == 'Air')]\n",
        "print(\"\\nDelayed & Air-Shipped Packages:\\n\", delayed_air_df)\n",
        "\n",
        "# 3. Query for ground-shipped delayed items\n",
        "ground_delayed = df.query(\"Status == 'Delayed' and Shipping_Type == 'Ground'\")\n",
        "print(\"\\n Delayed Ground Shipments:\\n\", ground_delayed)\n"
      ],
      "metadata": {
        "colab": {
          "base_uri": "https://localhost:8080/"
        },
        "id": "vnIeeKGzVyWx",
        "outputId": "e4fc31a6-b83f-4bf4-8ea1-c518df50b282"
      },
      "execution_count": 153,
      "outputs": [
        {
          "output_type": "stream",
          "name": "stdout",
          "text": [
            " Delayed Shipments:\n",
            "    ShipmentID  Weight_kg   Status  Fragile Shipping_Type\n",
            "2        1003       15.0  Delayed     True           Air\n",
            "4        1005       10.0  Delayed     True           Air\n",
            "\n",
            "Delayed & Air-Shipped Packages:\n",
            "    ShipmentID  Weight_kg   Status  Fragile Shipping_Type\n",
            "2        1003       15.0  Delayed     True           Air\n",
            "4        1005       10.0  Delayed     True           Air\n",
            "\n",
            " Delayed Ground Shipments:\n",
            " Empty DataFrame\n",
            "Columns: [ShipmentID, Weight_kg, Status, Fragile, Shipping_Type]\n",
            "Index: []\n"
          ]
        }
      ]
    },
    {
      "cell_type": "code",
      "source": [
        "# Dataframe  Arithmetc (With/Without)"
      ],
      "metadata": {
        "id": "aw0K-63gXzlv"
      },
      "execution_count": 154,
      "outputs": []
    },
    {
      "cell_type": "code",
      "source": [
        "# File Handling\n",
        "\n",
        "# Creating logistics shipment DataFrame\n",
        "df = pd.DataFrame({\n",
        "    'ShipmentID': [1001, 1002, 1003, 1004, 1005],\n",
        "    'Weight_kg': [12.5, 8.0, 15.0, 7.5, 10.0],\n",
        "    'Status': ['Delivered', 'In Transit', 'Delayed', 'Delivered', 'Delayed'],\n",
        "    'Fragile': [True, False, True, False, True],\n",
        "    'Shipping_Type': ['Air', 'Ground', 'Air', 'Ground', 'Air']\n",
        "})\n",
        "\n",
        "df.to_excel('ShipmentData.xlsx',index = False)"
      ],
      "metadata": {
        "id": "plVlccyXbAN0"
      },
      "execution_count": 160,
      "outputs": []
    },
    {
      "cell_type": "code",
      "source": [
        "# Read The excel File\n",
        "df_loaded = pd.read_excel('ShipmentData.xlsx')\n",
        "print(df_loaded)\n"
      ],
      "metadata": {
        "colab": {
          "base_uri": "https://localhost:8080/"
        },
        "id": "z27quk4ebCM9",
        "outputId": "5ce92cab-6283-4654-b5af-613ade4f91d2"
      },
      "execution_count": 161,
      "outputs": [
        {
          "output_type": "stream",
          "name": "stdout",
          "text": [
            "   ShipmentID  Weight_kg      Status  Fragile Shipping_Type\n",
            "0        1001       12.5   Delivered     True           Air\n",
            "1        1002        8.0  In Transit    False        Ground\n",
            "2        1003       15.0     Delayed     True           Air\n",
            "3        1004        7.5   Delivered    False        Ground\n",
            "4        1005       10.0     Delayed     True           Air\n"
          ]
        }
      ]
    },
    {
      "cell_type": "code",
      "source": [
        "# Use all the Binary Comparisonsss\n",
        "# Assuming 'df' DataFrame is already defined, for example from a previous image:\n",
        "df = pd.DataFrame({\n",
        "    'City': ['Delhi', 'Beijing', 'Los Angeles', 'Paris', 'Sydney'],\n",
        "    'PM2.5': [250, 180, 90, 60, 40],\n",
        "    'PM10': [300, 220, 110, 80, 55],\n",
        "    'NO2': [40, 60, 30, 25, 20],\n",
        "    'CO': [1.1, 1.3, 0.7, 0.6, 0.4]\n",
        "})\n",
        "\n",
        "# Define safe threshold values (as per environmental standards)\n",
        "safe_PM25 = 100\n",
        "safe_PM10 = 200\n",
        "\n",
        "# Perform binary comparisons\n",
        "pm25_safe = df['PM2.5'] < safe_PM25      # Is PM2.5 within safe limit?\n",
        "pm10_high = df['PM10'] > safe_PM10      # Is PM10 exceeding danger level?\n",
        "pm_match = df['PM2.5'] == df['PM10']     # Are both pollutants equal?\n",
        "\n",
        "# Print comparisons\n",
        "print(\"Cities with Safe PM2.5 Levels:\\n\", pm25_safe)\n",
        "print(\"\\nCities with High PM10 Levels:\\n\", pm10_high)\n",
        "print(\"\\nCities where PM2.5 equals PM10:\\n\", pm_match)"
      ],
      "metadata": {
        "colab": {
          "base_uri": "https://localhost:8080/"
        },
        "id": "xw3ocq4jcM4A",
        "outputId": "a801e1c9-214a-4ff0-d12a-4adea23b79a7"
      },
      "execution_count": 163,
      "outputs": [
        {
          "output_type": "stream",
          "name": "stdout",
          "text": [
            "Cities with Safe PM2.5 Levels:\n",
            " 0    False\n",
            "1    False\n",
            "2     True\n",
            "3     True\n",
            "4     True\n",
            "Name: PM2.5, dtype: bool\n",
            "\n",
            "Cities with High PM10 Levels:\n",
            " 0     True\n",
            "1     True\n",
            "2    False\n",
            "3    False\n",
            "4    False\n",
            "Name: PM10, dtype: bool\n",
            "\n",
            "Cities where PM2.5 equals PM10:\n",
            " 0    False\n",
            "1    False\n",
            "2    False\n",
            "3    False\n",
            "4    False\n",
            "dtype: bool\n"
          ]
        }
      ]
    },
    {
      "cell_type": "code",
      "source": [
        "# Boolean Functions\n",
        "\n",
        "# Create a sample DataFrame with emissions data (in mg/m³)\n",
        "data = {\n",
        "    'NOx_Emissions': [10, 20, 30],  # Nitrogen oxides (harmful gases)\n",
        "    'CO2_Emissions': [40, 50, 60]   # Carbon dioxide (global warming agent)\n",
        "}\n",
        "df = pd.DataFrame(data)\n",
        "\n",
        "# Display the DataFrame\n",
        "print(\"Daily Emissions Data:\\n\", df)\n",
        "\n",
        "# Binary comparison - Check if emissions are less than 25\n",
        "# Returns a DataFrame with boolean values (True/False) per element\n",
        "print(\"\\nEmissions < 25 mg/m³:\\n\", df.lt(25)) # lt = less than\n",
        "\n",
        "# Check if emissions exceed 50 mg/m³\n",
        "print(\"\\nEmissions > 50 mg/m³ (Exceeds Alert Level):\\n\", df.gt(50)) # gt = greater than\n",
        "\n",
        "# Check where emissions are exactly 30 mg/m³\n",
        "print(\"\\nEmissions == 30 mg/m³ (Match Target Day):\\n\", df.eq(30)) # eq = equal to\n",
        "\n",
        "# Check if emissions are <= 30 mg/m³ (within safe range)\n",
        "print(\"\\nEmissions <= 30 mg/m³:\\n\", df.le(30)) # le = less than or equal"
      ],
      "metadata": {
        "colab": {
          "base_uri": "https://localhost:8080/"
        },
        "id": "H9C0hP2fdi4X",
        "outputId": "4596836e-3355-4c93-9805-2137dc626680"
      },
      "execution_count": 164,
      "outputs": [
        {
          "output_type": "stream",
          "name": "stdout",
          "text": [
            "Daily Emissions Data:\n",
            "    NOx_Emissions  CO2_Emissions\n",
            "0             10             40\n",
            "1             20             50\n",
            "2             30             60\n",
            "\n",
            "Emissions < 25 mg/m³:\n",
            "    NOx_Emissions  CO2_Emissions\n",
            "0           True          False\n",
            "1           True          False\n",
            "2          False          False\n",
            "\n",
            "Emissions > 50 mg/m³ (Exceeds Alert Level):\n",
            "    NOx_Emissions  CO2_Emissions\n",
            "0          False          False\n",
            "1          False          False\n",
            "2          False           True\n",
            "\n",
            "Emissions == 30 mg/m³ (Match Target Day):\n",
            "    NOx_Emissions  CO2_Emissions\n",
            "0          False          False\n",
            "1          False          False\n",
            "2           True          False\n",
            "\n",
            "Emissions <= 30 mg/m³:\n",
            "    NOx_Emissions  CO2_Emissions\n",
            "0           True          False\n",
            "1           True          False\n",
            "2           True          False\n"
          ]
        }
      ]
    },
    {
      "cell_type": "code",
      "source": [
        "# Sample DataFrame for example\n",
        "df = pd.DataFrame({\n",
        "    'ShipmentID': [1001, 1002, 1003, 1004, 1005],\n",
        "    'Weight(kg)': [800, 1200, 900, 950, 700],\n",
        "    'Status': ['Delivered', 'In Transit', 'Delayed', 'No', 'No'],\n",
        "    'OriginPort': ['Rotterdam', 'Shanghai', 'Hamburg', 'Rotterdam', 'Hamburg']\n",
        "})\n",
        "\n",
        "# 1. Define a set of European ports\n",
        "europe_ports = ['Rotterdam', 'Hamburg']\n",
        "\n",
        "# 2. Apply advanced filtering\n",
        "filtered_df = df[\n",
        "    (df['Status'] == 'No') &  # Only those not delivered\n",
        "    (df['Weight(kg)'] < 1000) &  # Weight less than 1000 kg\n",
        "    (df['OriginPort'].isin(europe_ports))  # From European ports\n",
        "]\n",
        "\n",
        "# 3. Display the result\n",
        "print(\"\\nFiltered Shipments (Undelivered, <1000kg, From Europe):\")\n",
        "print(filtered_df)\n"
      ],
      "metadata": {
        "colab": {
          "base_uri": "https://localhost:8080/"
        },
        "id": "qcp3fOv5eUd_",
        "outputId": "1c159147-7b09-4b92-b53e-0fca6c47cc38"
      },
      "execution_count": 166,
      "outputs": [
        {
          "output_type": "stream",
          "name": "stdout",
          "text": [
            "\n",
            "Filtered Shipments (Undelivered, <1000kg, From Europe):\n",
            "   ShipmentID  Weight(kg) Status OriginPort\n",
            "3        1004         950     No  Rotterdam\n",
            "4        1005         700     No    Hamburg\n"
          ]
        }
      ]
    },
    {
      "cell_type": "code",
      "source": [],
      "metadata": {
        "id": "2LNYKNXge5pP"
      },
      "execution_count": null,
      "outputs": []
    }
  ]
}